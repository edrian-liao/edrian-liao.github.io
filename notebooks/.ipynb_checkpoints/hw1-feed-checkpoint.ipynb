{
 "cells": [
  {
   "cell_type": "markdown",
   "id": "62abb055",
   "metadata": {},
   "source": [
    "# Homework 1 Feedback #\n",
    "**ECE 110L: Fundamentals of Electrical and Computer Engineering**\n",
    "\n",
    "Edrian Paul Liao <br>\n",
    "September 18, 2023"
   ]
  },
  {
   "cell_type": "markdown",
   "id": "aaff6b54",
   "metadata": {},
   "source": [
    "This document contains (1) some comments I think might be helpful based on how homework 1 turned out; (2) some other feedback; and (3) tips that might be of aid in future homework"
   ]
  },
  {
   "cell_type": "markdown",
   "id": "a8e3503c",
   "metadata": {},
   "source": [
    "## Power delivered and absorbed by circuit elements ##"
   ]
  },
  {
   "cell_type": "markdown",
   "id": "a1a1c484",
   "metadata": {},
   "source": [
    "Determining the signs of the power delivered and absorbed could be quite tricky, sometimes. Although you should be fine following the rules of **passive convention**, it might help some of you to understand this from a physics perspective."
   ]
  },
  {
   "cell_type": "markdown",
   "id": "4583f59e",
   "metadata": {},
   "source": [
    "Voltage, or what we can call, potential difference, is the difference in the electric potential energy between two nodes (or points) in a circuit. If the current needs to go from a lower to a higher potential, i.e., electrons want to be transported from a (−) node to a (+) node, then they will need more energy to do the work. That is why power is delivered from the element to the circuit for these electrons to move. On the other hand, if the current needs to go from a higher to a lower potential, i.e., electrons want to be transported from a (+) node to a (−) node, they release energy and let the element absorb power for electrons to move to a node that has relatively lower electric\n",
    "potential energy."
   ]
  },
  {
   "cell_type": "markdown",
   "id": "d16de2c2",
   "metadata": {},
   "source": [
    "On homework 1, many people got confused with the usage of Ohm's law in circuit problems. Ohm’s law is a law that relates the voltage, current, and resistance of an __element, not of the whole circuit__. Sometimes, it might be tempting to just plug numbers in the formula, but hopefully, everyone knows what the formula is for (what it computes) so that no matter how complex the circuit is, you’ll still use these formulas like how you use them in simple ones. This problem can be solved by using the power delivered/absorbed by the elements. Some of you used KVL which also works, but be careful next time with the signs."
   ]
  },
  {
   "cell_type": "markdown",
   "id": "270f3d4d",
   "metadata": {},
   "source": [
    "## Additional feedback ##\n",
    "*(from me and Katy)*"
   ]
  },
  {
   "cell_type": "markdown",
   "id": "bab60a9c",
   "metadata": {},
   "source": [
    "- For clarity units-wise, 30mW is preferred over 0.3W.\n",
    "- Some of the notes were hard to read. Make sure writing is distinguishable enough from its background.\n",
    "- Read the question carefully, and provide everything that is being asked.\n",
    "- Focus on one element only. The power of the element does not necessarily translate to the power of the other.\n",
    "- Always use the law of conservation of power to determine if the element is absorbing or supplying power to the circuit.\n",
    "- Most importantly, please put the designated number of the problem **e.g., 1-4** (not just the textbook problem number). This helps us quickly locate where your solution is for a certain problem."
   ]
  },
  {
   "cell_type": "markdown",
   "id": "80b21e27",
   "metadata": {},
   "source": [
    "## Tips for future homework ##"
   ]
  },
  {
   "cell_type": "markdown",
   "id": "1ba28ff6",
   "metadata": {},
   "source": [
    "It will take us a while to ease in and to be comfortable using the laws that we learned in class. For now, it might not be clear at the start what formulas and circuit elements to use in solving a circuit as fast as possible. I just have a few tips in mind that can help you be more efficient."
   ]
  },
  {
   "cell_type": "markdown",
   "id": "9d812462",
   "metadata": {},
   "source": [
    "1. Before writing down equations, take your time to assess what quantities you are given and what not. This also helps you see the choices you have as your starting equation and assess those choices which will quickly lead you to the answer. This might not work for everyone, but still, give it a try.\n",
    "\n",
    "2. For other people, writing equations helps them see what they can use to find the missing quantities. If you're writing them down, make sure to **start at the areas of the circuit where a lot of information is present**. The tendency is that these equations will be good starting points.\n",
    "\n",
    "3. Finally, related to what I said above, try to at least write equations with only one variable as they will be easy to solve. However, this is not always the case; sometimes, you really need two or more variables and two or more equations to solve the circuit."
   ]
  },
  {
   "cell_type": "markdown",
   "id": "de219a10",
   "metadata": {},
   "source": [
    "_P.S. I hope this handout clarified some of the things you’re learning right now. If it confused you even more, please let me know by sending me an email. I am also willing to answer conceptual questions from you through email. Oftentimes, we forget that these equations tell a story about a concept. Remember that the story is the most important piece to get from them; in the future, even if you have forgotten the exact arrangement of quantities in the formula, you’ll be able to derive them on your own since you know the concept enough to put these stories in terms of numbers and mathematical operations. We want you all to succeed in this course–help us help you!_"
   ]
  }
 ],
 "metadata": {
  "kernelspec": {
   "display_name": "Python 3 (ipykernel)",
   "language": "python",
   "name": "python3"
  },
  "language_info": {
   "codemirror_mode": {
    "name": "ipython",
    "version": 3
   },
   "file_extension": ".py",
   "mimetype": "text/x-python",
   "name": "python",
   "nbconvert_exporter": "python",
   "pygments_lexer": "ipython3",
   "version": "3.10.9"
  }
 },
 "nbformat": 4,
 "nbformat_minor": 5
}
